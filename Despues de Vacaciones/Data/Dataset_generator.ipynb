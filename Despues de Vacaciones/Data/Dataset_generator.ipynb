{
 "cells": [
  {
   "cell_type": "code",
   "execution_count": 2,
   "id": "e48df65e",
   "metadata": {},
   "outputs": [],
   "source": [
    "import cv2 as cv\n",
    "\n",
    "cap = cv.VideoCapture(\"C:/Projects/ITM/INTELIGENCIA ARTIFICIAL/Unidad 3/Data/Video/v1.mp4\")\n",
    "i = 0\n",
    "\n",
    "while cap.isOpened():  # Mientras el video esté abierto\n",
    "    ret, frame = cap.read()\n",
    "    \n",
    "    if not ret:  # Si no se puede leer más del video, termina el bucle\n",
    "        break\n",
    "    \n",
    "    cv.imshow('img', frame)\n",
    "    k = cv.waitKey(1)\n",
    "    \n",
    "    resized_frame = cv.resize(frame, (28, 28))\n",
    "    \n",
    "    cv.imwrite(\"C:/Projects/ITM/INTELIGENCIA ARTIFICIAL/Unidad 3/Data/Img/NapoliCampeon/frame_{}.jpg\".format(i), resized_frame)\n",
    "    \n",
    "    i += 1\n",
    "    \n",
    "    # Presiona esc para salir\n",
    "    if k == 27:\n",
    "        break\n",
    "\n",
    "cap.release()\n",
    "cv.destroyAllWindows()"
   ]
  },
  {
   "cell_type": "code",
   "execution_count": 5,
   "id": "38c7556d",
   "metadata": {},
   "outputs": [],
   "source": []
  },
  {
   "cell_type": "code",
   "execution_count": null,
   "id": "625ba88c",
   "metadata": {},
   "outputs": [],
   "source": []
  }
 ],
 "metadata": {
  "kernelspec": {
   "display_name": "Python 3 (ipykernel)",
   "language": "python",
   "name": "python3"
  },
  "language_info": {
   "codemirror_mode": {
    "name": "ipython",
    "version": 3
   },
   "file_extension": ".py",
   "mimetype": "text/x-python",
   "name": "python",
   "nbconvert_exporter": "python",
   "pygments_lexer": "ipython3",
   "version": "3.11.4"
  }
 },
 "nbformat": 4,
 "nbformat_minor": 5
}
