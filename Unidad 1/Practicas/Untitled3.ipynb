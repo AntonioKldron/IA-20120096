{
 "cells": [
  {
   "cell_type": "code",
   "execution_count": 3,
   "id": "63d8efbe",
   "metadata": {},
   "outputs": [],
   "source": [
    "import numpy as np\n",
    "import cv2 as cv\n",
    "import math \n"
   ]
  },
  {
   "cell_type": "code",
   "execution_count": null,
   "id": "1f027018",
   "metadata": {},
   "outputs": [],
   "source": [
    "img = cv.imread('C:/Projects/ITM/INTELIGENCIA ARTIFICIAL/Unidad 1/Img/images.jpg', 1)\n",
    "img2 = cv.cvtColor(img, cv.COLOR_BGR2RGB)\n",
    "img3 = cv.cvtColor(img2, cv.COLOR_RGB2HSV)\n",
    "\n",
    "umbralBajo=(0, 80, 80  )\n",
    "umbralAlto=(10, 255, 255)\n",
    "umbralBajoB=(170, 80,80)\n",
    "umbralAltoB=(180, 255, 255)\n",
    "\n",
    "\n",
    "mascara1 = cv.inRange(img3, umbralBajo, umbralAlto)\n",
    "mascara2 = cv.inRange(img3, umbralBajoB, umbralAltoB)\n",
    "\n",
    "mascara = mascara1 + mascara2\n",
    "\n",
    "resultado = cv.bitwise_and(img, img, mask=mascara)\n",
    "\n",
    "cv.imshow('resultado', resultado)\n",
    "cv.imshow('mascara', mascara)\n",
    "cv.imshow('img',img)\n",
    "cv.imshow('img2', img2)\n",
    "cv.imshow('img3', img3)\n",
    "\n",
    "cv.waitKey(0)\n",
    "cv.destroyAllWindows()"
   ]
  },
  {
   "cell_type": "code",
   "execution_count": null,
   "id": "cc915912",
   "metadata": {},
   "outputs": [],
   "source": []
  },
  {
   "cell_type": "code",
   "execution_count": null,
   "id": "347e2433",
   "metadata": {},
   "outputs": [],
   "source": []
  }
 ],
 "metadata": {
  "kernelspec": {
   "display_name": "Python 3 (ipykernel)",
   "language": "python",
   "name": "python3"
  },
  "language_info": {
   "codemirror_mode": {
    "name": "ipython",
    "version": 3
   },
   "file_extension": ".py",
   "mimetype": "text/x-python",
   "name": "python",
   "nbconvert_exporter": "python",
   "pygments_lexer": "ipython3",
   "version": "3.11.5"
  }
 },
 "nbformat": 4,
 "nbformat_minor": 5
}
