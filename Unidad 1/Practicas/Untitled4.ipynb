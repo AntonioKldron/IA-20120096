{
 "cells": [
  {
   "cell_type": "code",
   "execution_count": null,
   "id": "b6490066",
   "metadata": {},
   "outputs": [],
   "source": [
    "import cv2 as cv\n",
    "cap = cv.VideoCapture(0)\n",
    "while(True):\n",
    "    ret, img = cap.read()\n",
    "    if ret == True:\n",
    "        img2 = cv.cvtColor(img, cv.COLOR_BGR2HSV)\n",
    "        ubb=(100,0,0)\n",
    "        uba=(110,255,255)\n",
    "        mask = cv.inRange(img2, ubb, uba)\n",
    "        res = cv.bitwise_and(img, img, mask=mask)\n",
    "        cv.imshow('img2', img) \n",
    "        cv.imshow('res', res) \n",
    "        cv.imshow('mask', mask) \n",
    "        k =cv.waitKey(20) & 0xFF\n",
    "        if k == 27:\n",
    "         break\n",
    "cap.release()\n",
    "cv.destroyAlIWindows ()"
   ]
  },
  {
   "cell_type": "code",
   "execution_count": null,
   "id": "cc0a6a0b",
   "metadata": {},
   "outputs": [],
   "source": []
  }
 ],
 "metadata": {
  "kernelspec": {
   "display_name": "Python 3 (ipykernel)",
   "language": "python",
   "name": "python3"
  },
  "language_info": {
   "codemirror_mode": {
    "name": "ipython",
    "version": 3
   },
   "file_extension": ".py",
   "mimetype": "text/x-python",
   "name": "python",
   "nbconvert_exporter": "python",
   "pygments_lexer": "ipython3",
   "version": "3.11.5"
  }
 },
 "nbformat": 4,
 "nbformat_minor": 5
}
