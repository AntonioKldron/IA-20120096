{
 "cells": [
  {
   "cell_type": "code",
   "execution_count": 1,
   "metadata": {},
   "outputs": [
    {
     "ename": "error",
     "evalue": "OpenCV(4.9.0) D:\\a\\opencv-python\\opencv-python\\opencv\\modules\\objdetect\\src\\cascadedetect.cpp:1689: error: (-215:Assertion failed) !empty() in function 'cv::CascadeClassifier::detectMultiScale'\n",
     "output_type": "error",
     "traceback": [
      "\u001b[1;31m---------------------------------------------------------------------------\u001b[0m",
      "\u001b[1;31merror\u001b[0m                                     Traceback (most recent call last)",
      "Cell \u001b[1;32mIn[1], line 13\u001b[0m\n\u001b[0;32m     10\u001b[0m imagen_gris \u001b[38;5;241m=\u001b[39m cv2\u001b[38;5;241m.\u001b[39mcvtColor(imagen, cv2\u001b[38;5;241m.\u001b[39mCOLOR_BGR2GRAY)\n\u001b[0;32m     12\u001b[0m \u001b[38;5;66;03m# Detectar objetos en la imagen\u001b[39;00m\n\u001b[1;32m---> 13\u001b[0m objetos_detectados \u001b[38;5;241m=\u001b[39m \u001b[43mdetector_objeto\u001b[49m\u001b[38;5;241;43m.\u001b[39;49m\u001b[43mdetectMultiScale\u001b[49m\u001b[43m(\u001b[49m\u001b[43mimagen_gris\u001b[49m\u001b[43m,\u001b[49m\u001b[43m \u001b[49m\u001b[43mscaleFactor\u001b[49m\u001b[38;5;241;43m=\u001b[39;49m\u001b[38;5;241;43m1.1\u001b[39;49m\u001b[43m,\u001b[49m\u001b[43m \u001b[49m\u001b[43mminNeighbors\u001b[49m\u001b[38;5;241;43m=\u001b[39;49m\u001b[38;5;241;43m5\u001b[39;49m\u001b[43m,\u001b[49m\u001b[43m \u001b[49m\u001b[43mminSize\u001b[49m\u001b[38;5;241;43m=\u001b[39;49m\u001b[43m(\u001b[49m\u001b[38;5;241;43m30\u001b[39;49m\u001b[43m,\u001b[49m\u001b[43m \u001b[49m\u001b[38;5;241;43m30\u001b[39;49m\u001b[43m)\u001b[49m\u001b[43m)\u001b[49m\n\u001b[0;32m     15\u001b[0m \u001b[38;5;66;03m# Dibujar rectángulos alrededor de los objetos detectados\u001b[39;00m\n\u001b[0;32m     16\u001b[0m \u001b[38;5;28;01mfor\u001b[39;00m (x, y, w, h) \u001b[38;5;129;01min\u001b[39;00m objetos_detectados:\n",
      "\u001b[1;31merror\u001b[0m: OpenCV(4.9.0) D:\\a\\opencv-python\\opencv-python\\opencv\\modules\\objdetect\\src\\cascadedetect.cpp:1689: error: (-215:Assertion failed) !empty() in function 'cv::CascadeClassifier::detectMultiScale'\n"
     ]
    }
   ],
   "source": [
    "import cv2\n",
    "\n",
    "# Ruta al archivo XML del dataset\n",
    "dataset_path = 'C:/Projects/ITM/INTELIGENCIA ARTIFICIAL/Unidad 1/Wally/tools/wallyface.xml'\n",
    "\n",
    "# Cargar el clasificador de cascada\n",
    "detector_objeto = cv2.CascadeClassifier(dataset_path)\n",
    "\n",
    "# Verificar si el clasificador se ha cargado correctamente\n",
    "if detector_objeto.empty():\n",
    "    print(\"Error: No se pudo cargar el clasificador de cascada.\")\n",
    "else:\n",
    "    print(\"El clasificador de cascada se ha cargado correctamente.\")\n",
    "\n",
    "# Ruta a la imagen en la que deseas buscar el objeto\n",
    "imagen_path = 'C:/Projects/ITM/INTELIGENCIA ARTIFICIAL/Unidad 1/Wally/data/img.jpg'\n",
    "\n",
    "# Cargar la imagen\n",
    "imagen = cv2.imread(imagen_path)\n",
    "\n",
    "# Convertir la imagen a escala de grises\n",
    "imagen_gris = cv2.cvtColor(imagen, cv2.COLOR_BGR2GRAY)\n",
    "\n",
    "# Detectar objetos en la imagen\n",
    "objetos_detectados = detector_objeto.detectMultiScale(imagen_gris, scaleFactor=1.1, minNeighbors=5, minSize=(30, 30))\n",
    "\n",
    "# Dibujar rectángulos alrededor de los objetos detectados\n",
    "for (x, y, w, h) in objetos_detectados:\n",
    "    cv2.rectangle(imagen, (x, y), (x+w, y+h), (255, 0, 0), 2)\n",
    "\n",
    "# Mostrar la imagen con los objetos detectados\n",
    "cv2.imshow('Objetos detectados', imagen)\n",
    "cv2.waitKey(0)\n",
    "cv2.destroyAllWindows()\n"
   ]
  }
 ],
 "metadata": {
  "kernelspec": {
   "display_name": "entornoIA",
   "language": "python",
   "name": "python3"
  },
  "language_info": {
   "codemirror_mode": {
    "name": "ipython",
    "version": 3
   },
   "file_extension": ".py",
   "mimetype": "text/x-python",
   "name": "python",
   "nbconvert_exporter": "python",
   "pygments_lexer": "ipython3",
   "version": "3.12.2"
  }
 },
 "nbformat": 4,
 "nbformat_minor": 2
}
