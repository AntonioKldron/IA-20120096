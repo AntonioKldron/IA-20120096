{
 "cells": [
  {
   "cell_type": "code",
   "execution_count": 1,
   "metadata": {},
   "outputs": [
    {
     "name": "stdout",
     "output_type": "stream",
     "text": [
      "['Enojado', 'Feliz', 'Ira', 'Triste', 'v']\n"
     ]
    },
    {
     "ename": "error",
     "evalue": "OpenCV(4.9.0) D:\\a\\opencv-python\\opencv-python\\opencv_contrib\\modules\\face\\src\\lbph_faces.cpp:406: error: (-5:Bad argument) This LBPH model is not computed yet. Did you call the train method? in function 'cv::face::LBPH::predict'\n",
     "output_type": "error",
     "traceback": [
      "\u001b[1;31m---------------------------------------------------------------------------\u001b[0m",
      "\u001b[1;31merror\u001b[0m                                     Traceback (most recent call last)",
      "Cell \u001b[1;32mIn[1], line 41\u001b[0m\n\u001b[0;32m     38\u001b[0m frame2 \u001b[38;5;241m=\u001b[39m cv\u001b[38;5;241m.\u001b[39mresize(frame2, (\u001b[38;5;241m100\u001b[39m, \u001b[38;5;241m100\u001b[39m), interpolation\u001b[38;5;241m=\u001b[39mcv\u001b[38;5;241m.\u001b[39mINTER_CUBIC)\n\u001b[0;32m     40\u001b[0m \u001b[38;5;66;03m# Predict the label of the face\u001b[39;00m\n\u001b[1;32m---> 41\u001b[0m result \u001b[38;5;241m=\u001b[39m \u001b[43mfaceRecognizer\u001b[49m\u001b[38;5;241;43m.\u001b[39;49m\u001b[43mpredict\u001b[49m\u001b[43m(\u001b[49m\u001b[43mframe2\u001b[49m\u001b[43m)\u001b[49m\n\u001b[0;32m     43\u001b[0m \u001b[38;5;66;03m# Display the prediction result on the frame\u001b[39;00m\n\u001b[0;32m     44\u001b[0m cv\u001b[38;5;241m.\u001b[39mputText(frame, \u001b[38;5;124m'\u001b[39m\u001b[38;5;132;01m{}\u001b[39;00m\u001b[38;5;124m'\u001b[39m\u001b[38;5;241m.\u001b[39mformat(result), (x, y\u001b[38;5;241m-\u001b[39m\u001b[38;5;241m20\u001b[39m), \u001b[38;5;241m1\u001b[39m, \u001b[38;5;241m3.3\u001b[39m, (\u001b[38;5;241m0\u001b[39m, \u001b[38;5;241m0\u001b[39m, \u001b[38;5;241m0\u001b[39m), \u001b[38;5;241m1\u001b[39m, cv\u001b[38;5;241m.\u001b[39mLINE_AA)\n",
      "\u001b[1;31merror\u001b[0m: OpenCV(4.9.0) D:\\a\\opencv-python\\opencv-python\\opencv_contrib\\modules\\face\\src\\lbph_faces.cpp:406: error: (-5:Bad argument) This LBPH model is not computed yet. Did you call the train method? in function 'cv::face::LBPH::predict'\n"
     ]
    },
    {
     "ename": "",
     "evalue": "",
     "output_type": "error",
     "traceback": [
      "\u001b[1;31mThe Kernel crashed while executing code in the current cell or a previous cell. \n",
      "\u001b[1;31mPlease review the code in the cell(s) to identify a possible cause of the failure. \n",
      "\u001b[1;31mClick <a href='https://aka.ms/vscodeJupyterKernelCrash'>here</a> for more info. \n",
      "\u001b[1;31mView Jupyter <a href='command:jupyter.viewOutput'>log</a> for further details."
     ]
    }
   ],
   "source": [
    "import cv2 as cv\n",
    "import os\n",
    "\n",
    "# Load the LBPH face recognizer and read the trained model\n",
    "faceRecognizer = cv.face.LBPHFaceRecognizer_create()\n",
    "faceRecognizer.read('C:/Projects/ITM/INTELIGENCIA ARTIFICIAL/1_Proyecto_Rostros/tools/toolsface_lbph.xml')\n",
    "\n",
    "# Define the dataset path\n",
    "dataSet = 'C:/Projects/ITM/INTELIGENCIA ARTIFICIAL/1_Proyecto_Rostros/Img'\n",
    "\n",
    "# Get the list of face directories (these will be the labels)\n",
    "faces = os.listdir(dataSet)\n",
    "print(faces)\n",
    "\n",
    "# Initialize video capture\n",
    "cap = cv.VideoCapture(0)\n",
    "\n",
    "# Load the Haar cascade for face detection\n",
    "rostro = cv.CascadeClassifier('C:/Projects/ITM/INTELIGENCIA ARTIFICIAL/Unidad 1/tools/haarcascade_frontalface_alt.xml')\n",
    "\n",
    "while True:\n",
    "    ret, frame = cap.read()\n",
    "    if not ret:\n",
    "        break\n",
    "    \n",
    "    # Convert the frame to grayscale\n",
    "    gray = cv.cvtColor(frame, cv.COLOR_BGR2GRAY)\n",
    "    cpGray = gray.copy()\n",
    "    \n",
    "    # Detect faces in the grayscale frame\n",
    "    rostros = rostro.detectMultiScale(gray, 1.3, 3)\n",
    "    \n",
    "    for (x, y, w, h) in rostros:\n",
    "        # Extract the face region of interest (ROI)\n",
    "        frame2 = cpGray[y:y+h, x:x+w]\n",
    "        \n",
    "        # Resize the face ROI to 100x100 pixels\n",
    "        frame2 = cv.resize(frame2, (100, 100), interpolation=cv.INTER_CUBIC)\n",
    "        \n",
    "        # Predict the label of the face\n",
    "        result = faceRecognizer.predict(frame2)\n",
    "        \n",
    "        # Display the prediction result on the frame\n",
    "        cv.putText(frame, '{}'.format(result), (x, y-20), 1, 1.3, (0, 0, 0), 1, cv.LINE_AA)\n",
    "        if result[1] < 100:  # LBPH confidence threshold\n",
    "            cv.putText(frame, '{}'.format(faces[result[0]]), (x, y-25), 2, 1.1, (0, 255, 0), 1, cv.LINE_AA)\n",
    "            cv.rectangle(frame, (x, y), (x+w, y+h), (0, 255, 0), 2)\n",
    "        else:\n",
    "            cv.putText(frame, 'Procesando', (x, y-20), 2, 0.8, (0, 0, 255), 1, cv.LINE_AA)\n",
    "            cv.rectangle(frame, (x, y), (x+w, y+h), (0, 0, 255), 2)\n",
    "    \n",
    "    # Show the frame with annotations\n",
    "    cv.imshow('frame', frame)\n",
    "    \n",
    "    # Break the loop on 'ESC' key press\n",
    "    if cv.waitKey(1) & 0xFF == 27:\n",
    "        break\n",
    "\n",
    "# Release the video capture and destroy all OpenCV windows\n",
    "cap.release()\n",
    "cv.destroyAllWindows()\n"
   ]
  }
 ],
 "metadata": {
  "kernelspec": {
   "display_name": "entornoIA",
   "language": "python",
   "name": "python3"
  },
  "language_info": {
   "codemirror_mode": {
    "name": "ipython",
    "version": 3
   },
   "file_extension": ".py",
   "mimetype": "text/x-python",
   "name": "python",
   "nbconvert_exporter": "python",
   "pygments_lexer": "ipython3",
   "version": "3.12.2"
  }
 },
 "nbformat": 4,
 "nbformat_minor": 2
}
