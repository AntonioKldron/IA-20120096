{
 "cells": [
  {
   "cell_type": "code",
   "execution_count": null,
   "metadata": {},
   "outputs": [],
   "source": [
    "import cv2 as cv\n",
    "import os\n",
    "\n",
    "# Lista de etiquetas de los rostros, asegúrate de que coincidan con los IDs que tu modelo ha aprendido.\n",
    "faces = [\"Enojado\", \"Feliz\", \"Ira\",\"Triste\",\"v\"]  # Añade aquí las etiquetas correspondientes\n",
    "\n",
    "faceRecognizer = cv.face.FisherFaceRecognizer_create()\n",
    "faceRecognizer.read('C:/Projects/ITM/INTELIGENCIA ARTIFICIAL/1_Proyecto_Rostros/tools/toolsface.xml')\n",
    "\n",
    "cap = cv.VideoCapture(0)\n",
    "rostro = cv.CascadeClassifier('C:/Projects/ITM/INTELIGENCIA ARTIFICIAL/Unidad 1/tools/haarcascade_frontalface_alt.xml')\n",
    "\n",
    "while True:\n",
    "    ret, frame = cap.read()\n",
    "    if ret == False: \n",
    "        break\n",
    "    gray = cv.cvtColor(frame, cv.COLOR_BGR2GRAY)\n",
    "    cpGray = gray.copy()\n",
    "    rostros = rostro.detectMultiScale(gray, 1.3, 3)\n",
    "    for (x, y, w, h) in rostros:\n",
    "        frame2 = cpGray[y:y+h, x:x+w]\n",
    "        frame2 = cv.resize(frame2, (100, 100), interpolation=cv.INTER_CUBIC)\n",
    "        result = faceRecognizer.predict(frame2)\n",
    "        cv.putText(frame, '{}'.format(result), (x, y-20), 1, 3.3, (0, 0, 0), 1, cv.LINE_AA)\n",
    "        if result[1] < 400:\n",
    "            if result[0] < len(faces):  # Verificar si el ID está dentro de los límites de la lista\n",
    "                cv.putText(frame, '{}'.format(faces[result[0]]), (x, y-25), 2, 1.1, (0, 255, 0), 1, cv.LINE_AA)\n",
    "                cv.rectangle(frame, (x, y), (x+w, y+h), (0, 255, 0), 2)\n",
    "            else:\n",
    "                cv.putText(frame, 'Desconocido', (x, y-25), 2, 1.1, (0, 0, 255), 1, cv.LINE_AA)\n",
    "                cv.rectangle(frame, (x, y), (x+w, y+h), (0, 0, 255), 2)\n",
    "        else:\n",
    "            cv.putText(frame, 'Procesando', (x, y-20), 2, 0.8, (0, 0, 255), 1, cv.LINE_AA)\n",
    "            cv.rectangle(frame, (x, y), (x+w, y+h), (0, 0, 255), 2)\n",
    "    cv.imshow('frame', frame)\n",
    "    k = cv.waitKey(1)\n",
    "    if k == 27:\n",
    "        break\n",
    "\n",
    "cap.release()\n",
    "cv.destroyAllWindows()\n"
   ]
  }
 ],
 "metadata": {
  "language_info": {
   "name": "python"
  }
 },
 "nbformat": 4,
 "nbformat_minor": 2
}
