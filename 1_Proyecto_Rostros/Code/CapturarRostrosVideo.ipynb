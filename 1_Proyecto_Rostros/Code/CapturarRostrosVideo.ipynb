{
 "cells": [
  {
   "cell_type": "code",
   "execution_count": 12,
   "metadata": {},
   "outputs": [],
   "source": [
    "\n",
    "import numpy as np\n",
    "import cv2 as cv\n",
    "\n",
    "# Cargar el clasificador de rostros\n",
    "rostro = cv.CascadeClassifier('C:/Projects/ITM/INTELIGENCIA ARTIFICIAL/Unidad 1/tools/haarcascade_frontalface_alt.xml')\n",
    "\n",
    "# Capturar video desde archivo\n",
    "cap = cv.VideoCapture(\"C:/Projects/ITM/INTELIGENCIA ARTIFICIAL/1_Proyecto_Rostros/Video/v5.mp4\")\n",
    "i = 90\n",
    "while cap.isOpened():  # Mientras el video esté abierto\n",
    "    ret, frame = cap.read()\n",
    "    \n",
    "    if not ret:  # Si no se puede leer más del video, termina el bucle\n",
    "        break\n",
    "    \n",
    "    # Convertir a escala de grises\n",
    "    gray = cv.cvtColor(frame, cv.COLOR_BGR2GRAY)\n",
    "    rostros = rostro.detectMultiScale(gray, 1.3, 5)\n",
    "    \n",
    "    for (x, y, w, h) in rostros:\n",
    "        # Extraer y redimensionar el rostro detectado\n",
    "        frame2 = frame[y:y+h, x:x+w]\n",
    "        frame2 = cv.resize(frame2, (100, 100), interpolation=cv.INTER_AREA)\n",
    "        # Guardar el rostro redimensionado\n",
    "        cv.imwrite('C:/Projects/ITM/INTELIGENCIA ARTIFICIAL/1_Proyecto_Rostros/Img/v/Felix{}.png'.format(i), frame2)\n",
    "        i += 1\n",
    "    \n",
    "    cv.imshow('rostros', frame)\n",
    "    k = cv.waitKey(1) & 0xFF\n",
    "    \n",
    "    # Presiona esc para salir\n",
    "    if k == 27:\n",
    "        break\n",
    "\n",
    "cap.release()\n",
    "cv.destroyAllWindows()\n",
    "\n"
   ]
  }
 ],
 "metadata": {
  "kernelspec": {
   "display_name": "entornoIA",
   "language": "python",
   "name": "python3"
  },
  "language_info": {
   "codemirror_mode": {
    "name": "ipython",
    "version": 3
   },
   "file_extension": ".py",
   "mimetype": "text/x-python",
   "name": "python",
   "nbconvert_exporter": "python",
   "pygments_lexer": "ipython3",
   "version": "3.12.2"
  }
 },
 "nbformat": 4,
 "nbformat_minor": 2
}
