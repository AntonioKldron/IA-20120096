{
 "cells": [
  {
   "cell_type": "code",
   "execution_count": 2,
   "metadata": {},
   "outputs": [
    {
     "name": "stdout",
     "output_type": "stream",
     "text": [
      "['Enojado', 'Feliz', 'Ira', 'Sorprendido', 'Triste']\n"
     ]
    }
   ],
   "source": [
    "import cv2 as cv\n",
    "import os\n",
    "\n",
    "# Load the LBPH face recognizer and read the trained model\n",
    "faceRecognizer = cv.face.LBPHFaceRecognizer_create()\n",
    "faceRecognizer.read('C:/Projects/ITM/INTELIGENCIA ARTIFICIAL/1_Proyecto_Rostros/tools/toolsface_lbph.xml')\n",
    "\n",
    "# Define the dataset path\n",
    "dataSet = 'C:/Projects/ITM/INTELIGENCIA ARTIFICIAL/1_Proyecto_Rostros/Img'\n",
    "\n",
    "# Get the list of face directories (these will be the labels)\n",
    "faces = os.listdir(dataSet)\n",
    "print(faces)\n",
    "\n",
    "# Initialize video capture\n",
    "cap = cv.VideoCapture(0)\n",
    "\n",
    "# Load the Haar cascade for face detection\n",
    "rostro = cv.CascadeClassifier('C:/Projects/ITM/INTELIGENCIA ARTIFICIAL/Unidad 1/tools/haarcascade_frontalface_alt.xml')\n",
    "\n",
    "while True:\n",
    "    ret, frame = cap.read()\n",
    "    if not ret:\n",
    "        break\n",
    "    \n",
    "    # Convert the frame to grayscale\n",
    "    gray = cv.cvtColor(frame, cv.COLOR_BGR2GRAY)\n",
    "    cpGray = gray.copy()\n",
    "    \n",
    "    # Detect faces in the grayscale frame\n",
    "    rostros = rostro.detectMultiScale(gray, 1.3, 3)\n",
    "    \n",
    "    for (x, y, w, h) in rostros:\n",
    "        # Extract the face region of interest (ROI)\n",
    "        frame2 = cpGray[y:y+h, x:x+w]\n",
    "        \n",
    "        # Resize the face ROI to 100x100 pixels\n",
    "        frame2 = cv.resize(frame2, (100, 100), interpolation=cv.INTER_CUBIC)\n",
    "        \n",
    "        # Predict the label of the face\n",
    "        result = faceRecognizer.predict(frame2)\n",
    "        \n",
    "        # Display the prediction result on the frame\n",
    "        cv.putText(frame, '{}'.format(result), (x, y-20), 1, 1.3, (0, 0, 0), 1, cv.LINE_AA)\n",
    "        if result[1] < 100:  # LBPH confidence threshold\n",
    "            cv.putText(frame, '{}'.format(faces[result[0]]), (x, y-25), 2, 1.1, (0, 255, 0), 1, cv.LINE_AA)\n",
    "            cv.rectangle(frame, (x, y), (x+w, y+h), (0, 255, 0), 2)\n",
    "        else:\n",
    "            cv.putText(frame, 'Procesando', (x, y-20), 2, 0.8, (0, 0, 255), 1, cv.LINE_AA)\n",
    "            cv.rectangle(frame, (x, y), (x+w, y+h), (0, 0, 255), 2)\n",
    "    \n",
    "    # Show the frame with annotations\n",
    "    cv.imshow('frame', frame)\n",
    "    \n",
    "    # Break the loop on 'ESC' key press\n",
    "    if cv.waitKey(1) & 0xFF == 27:\n",
    "        break\n",
    "\n",
    "# Release the video capture and destroy all OpenCV windows\n",
    "cap.release()\n",
    "cv.destroyAllWindows()\n"
   ]
  }
 ],
 "metadata": {
  "kernelspec": {
   "display_name": "entornoIA",
   "language": "python",
   "name": "python3"
  },
  "language_info": {
   "codemirror_mode": {
    "name": "ipython",
    "version": 3
   },
   "file_extension": ".py",
   "mimetype": "text/x-python",
   "name": "python",
   "nbconvert_exporter": "python",
   "pygments_lexer": "ipython3",
   "version": "3.12.2"
  }
 },
 "nbformat": 4,
 "nbformat_minor": 2
}
