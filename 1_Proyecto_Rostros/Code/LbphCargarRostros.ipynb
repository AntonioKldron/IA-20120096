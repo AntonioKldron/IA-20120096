{
 "cells": [
  {
   "cell_type": "code",
   "execution_count": null,
   "metadata": {},
   "outputs": [],
   "source": [
    "import cv2 as cv\n",
    "import numpy as np\n",
    "import os\n",
    "\n",
    "# Define the dataset path\n",
    "dataSet = 'C:/Projects/ITM/INTELIGENCIA ARTIFICIAL/1_Proyecto_Rostros/Img'\n",
    "\n",
    "# Get the list of face directories\n",
    "faces = os.listdir(dataSet)\n",
    "print(faces)\n",
    "\n",
    "labels = []\n",
    "facesData = []\n",
    "label = 0\n",
    "\n",
    "# Loop through each face directory\n",
    "for face in faces:\n",
    "    facePath = os.path.join(dataSet, face)\n",
    "    for faceName in os.listdir(facePath):\n",
    "        labels.append(label)\n",
    "        facesData.append(cv.imread(os.path.join(facePath, faceName), 0))\n",
    "    label += 1\n",
    "\n",
    "# Print the number of labels for the first class\n",
    "print(np.count_nonzero(np.array(labels) == 0))\n",
    "\n",
    "# Create the LBPH face recognizer\n",
    "faceRecognizer = cv.face.LBPHFaceRecognizer_create()\n",
    "\n",
    "# Train the recognizer with the face data and labels\n",
    "faceRecognizer.train(facesData, np.array(labels))\n",
    "\n",
    "# Save the trained model to a file\n",
    "faceRecognizer.save('C:/Projects/ITM/INTELIGENCIA ARTIFICIAL/1_Proyecto_Rostros/tools/toolsface_lbph.xml')\n"
   ]
  }
 ],
 "metadata": {
  "language_info": {
   "name": "python"
  }
 },
 "nbformat": 4,
 "nbformat_minor": 2
}
