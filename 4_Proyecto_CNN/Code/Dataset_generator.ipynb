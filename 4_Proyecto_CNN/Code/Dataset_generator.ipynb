{
 "cells": [
  {
   "cell_type": "code",
   "execution_count": 1,
   "id": "e48df65e",
   "metadata": {},
   "outputs": [],
   "source": [
    "import cv2 as cv\n",
    "\n",
    "cap = cv.VideoCapture(\"C:/Projects/ITM/INTELIGENCIA ARTIFICIAL/4_Proyecto_CNN/Video/v3.mp4\")\n",
    "i = 1235\n",
    "\n",
    "while cap.isOpened():  # Mientras el video esté abierto\n",
    "    ret, frame = cap.read()\n",
    "    \n",
    "    if not ret:  # Si no se puede leer más del video, termina el bucle\n",
    "        break\n",
    "    \n",
    "    cv.imshow('img', frame)\n",
    "    k = cv.waitKey(1)\n",
    "    \n",
    "    resized_frame = cv.resize(frame, (40, 40))\n",
    "    \n",
    "    cv.imwrite(\"C:/Projects/ITM/INTELIGENCIA ARTIFICIAL/4_Proyecto_CNN/Img/Tornados/frame_{}.jpg\".format(i), resized_frame)\n",
    "    \n",
    "    i += 1\n",
    "    \n",
    "    # Presiona esc para salir\n",
    "    if k == 27:\n",
    "        break\n",
    "\n",
    "cap.release()\n",
    "cv.destroyAllWindows()\n"
   ]
  }
 ],
 "metadata": {
  "kernelspec": {
   "display_name": "Python 3 (ipykernel)",
   "language": "python",
   "name": "python3"
  },
  "language_info": {
   "codemirror_mode": {
    "name": "ipython",
    "version": 3
   },
   "file_extension": ".py",
   "mimetype": "text/x-python",
   "name": "python",
   "nbconvert_exporter": "python",
   "pygments_lexer": "ipython3",
   "version": "3.12.2"
  }
 },
 "nbformat": 4,
 "nbformat_minor": 5
}
