{
 "cells": [
  {
   "cell_type": "code",
   "execution_count": 7,
   "metadata": {},
   "outputs": [
    {
     "name": "stderr",
     "output_type": "stream",
     "text": [
      "WARNING:absl:Compiled the loaded model, but the compiled metrics have yet to be built. `model.compile_metrics` will be empty until you train or evaluate the model.\n"
     ]
    },
    {
     "ename": "AttributeError",
     "evalue": "'Sequential' object has no attribute 'etiquetas'",
     "output_type": "error",
     "traceback": [
      "\u001b[1;31m---------------------------------------------------------------------------\u001b[0m",
      "\u001b[1;31mAttributeError\u001b[0m                            Traceback (most recent call last)",
      "Cell \u001b[1;32mIn[7], line 9\u001b[0m\n\u001b[0;32m      6\u001b[0m sport_model \u001b[38;5;241m=\u001b[39m load_model(\u001b[38;5;124m\"\u001b[39m\u001b[38;5;124mC:/Projects/ITM/INTELIGENCIA ARTIFICIAL/4_Proyecto_CNN/Code/ccn.h5\u001b[39m\u001b[38;5;124m\"\u001b[39m)\n\u001b[0;32m      8\u001b[0m \u001b[38;5;66;03m# Carga las etiquetas desde el modelo\u001b[39;00m\n\u001b[1;32m----> 9\u001b[0m etiquetas_deportes \u001b[38;5;241m=\u001b[39m \u001b[43msport_model\u001b[49m\u001b[38;5;241;43m.\u001b[39;49m\u001b[43metiquetas\u001b[49m  \u001b[38;5;66;03m# Suponiendo que las etiquetas estén almacenadas en el modelo con el nombre 'etiquetas'\u001b[39;00m\n\u001b[0;32m     12\u001b[0m \u001b[38;5;66;03m# Lee la imagen que deseas predecir\u001b[39;00m\n\u001b[0;32m     13\u001b[0m image \u001b[38;5;241m=\u001b[39m cv2\u001b[38;5;241m.\u001b[39mimread(\u001b[38;5;124m\"\u001b[39m\u001b[38;5;124mC:/Projects/ITM/INTELIGENCIA ARTIFICIAL/4_Proyecto_CNN/Img/Inundaciones/frame_2.jpg\u001b[39m\u001b[38;5;124m\"\u001b[39m)\n",
      "\u001b[1;31mAttributeError\u001b[0m: 'Sequential' object has no attribute 'etiquetas'"
     ]
    }
   ],
   "source": [
    "import cv2\n",
    "import numpy as np\n",
    "import matplotlib.pyplot as plt\n",
    "from tensorflow.keras.models import load_model\n",
    "\n",
    "# Cargar el modelo previamente entrenado\n",
    "sport_model = load_model(\"C:/Projects/ITM/INTELIGENCIA ARTIFICIAL/4_Proyecto_CNN/ccn.h5\")\n",
    "\n",
    "# Lee la nueva imagen que deseas predecir\n",
    "image_path = 'C:/Projects/ITM/INTELIGENCIA ARTIFICIAL/4_Proyecto_CNN/Img/Inundaciones/frame_2.jpg'\n",
    "image = cv2.imread(image_path)\n",
    "image = cv2.resize(image, (28, 21))  # Redimensiona la imagen al mismo tamaño que se utilizó durante el entrenamiento\n",
    "image = image.astype('float32') / 255.0  # Normaliza los valores de píxeles al rango [0, 1]\n",
    "\n",
    "# Realiza la predicción\n",
    "prediction = sport_model.predict(np.expand_dims(image, axis=0))\n",
    "\n",
    "# Obtiene la clase predicha\n",
    "predicted_class_index = np.argmax(prediction)\n",
    "predicted_class = deportes[predicted_class_index]\n",
    "\n",
    "# Muestra la imagen y la predicción\n",
    "plt.imshow(cv2.cvtColor(image, cv2.COLOR_BGR2RGB))  # Muestra la imagen en color correcto\n",
    "plt.title(\"Predicted Class: \" + predicted_class)\n",
    "plt.axis('off')\n",
    "plt.show()\n",
    "\n",
    "\n",
    "\n",
    "\n"
   ]
  }
 ],
 "metadata": {
  "kernelspec": {
   "display_name": "entornoIA",
   "language": "python",
   "name": "python3"
  },
  "language_info": {
   "codemirror_mode": {
    "name": "ipython",
    "version": 3
   },
   "file_extension": ".py",
   "mimetype": "text/x-python",
   "name": "python",
   "nbconvert_exporter": "python",
   "pygments_lexer": "ipython3",
   "version": "3.12.2"
  }
 },
 "nbformat": 4,
 "nbformat_minor": 2
}
