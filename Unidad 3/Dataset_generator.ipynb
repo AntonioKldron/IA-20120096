{
 "cells": [
  {
   "cell_type": "code",
   "execution_count": 2,
   "id": "e48df65e",
   "metadata": {},
   "outputs": [],
   "source": [
    "import numpy as np\n",
    "import cv2 as cv\n",
    "import math \n",
    "\n",
    "cap = cv.VideoCapture(\"videos/v1.mp4\")\n",
    "i = 0\n",
    "while True:\n",
    "    ret, frame = cap.read()\n",
    "    if not ret:\n",
    "        break  # Si no se puede leer el fotograma, sal del bucle\n",
    "    resized_frame = cv.resize(frame, (28, 21))  # Redimensionar el fotograma a 28x21 píxeles\n",
    "    cv.imshow('img', resized_frame)\n",
    "    k = cv.waitKey(1)\n",
    "    if k == ord('a'):\n",
    "        i += 1    \n",
    "        cv.imwrite('dataset/prueba/f'+str(i)+'.jpg', resized_frame)\n",
    "    elif k == 27:\n",
    "        break\n",
    "cap.release()\n",
    "cv.destroyAllWindows()\n"
   ]
  },
  {
   "cell_type": "code",
   "execution_count": 5,
   "id": "38c7556d",
   "metadata": {},
   "outputs": [],
   "source": [
    "import numpy as np\n",
    "import cv2 as cv\n",
    "import math \n",
    "\n",
    "cap = cv.VideoCapture(\"videos/v1.mp4\")\n",
    "i = 0\n",
    "while True:\n",
    "    ret, frame = cap.read()\n",
    "    if not ret:\n",
    "        break  # Si no se puede leer el fotograma, sal del bucle\n",
    "    \n",
    "    # Mostrar el fotograma original a tamaño completo\n",
    "    cv.imshow('Original', frame)\n",
    "    \n",
    "    #redimensiona el fotograma\n",
    "    resized_frame = cv.resize(frame, (28, 21))\n",
    "    \n",
    "    \n",
    "    k = cv.waitKey(1)\n",
    "    if k == ord('a'):\n",
    "        i += 1    \n",
    "        cv.imwrite('dataset/prueba/f'+str(i)+'.jpg', resized_frame)\n",
    "    elif k == 27:\n",
    "        break\n",
    "cap.release()\n",
    "cv.destroyAllWindows()\n"
   ]
  },
  {
   "cell_type": "code",
   "execution_count": null,
   "id": "625ba88c",
   "metadata": {},
   "outputs": [],
   "source": []
  }
 ],
 "metadata": {
  "kernelspec": {
   "display_name": "Python 3 (ipykernel)",
   "language": "python",
   "name": "python3"
  },
  "language_info": {
   "codemirror_mode": {
    "name": "ipython",
    "version": 3
   },
   "file_extension": ".py",
   "mimetype": "text/x-python",
   "name": "python",
   "nbconvert_exporter": "python",
   "pygments_lexer": "ipython3",
   "version": "3.11.4"
  }
 },
 "nbformat": 4,
 "nbformat_minor": 5
}
