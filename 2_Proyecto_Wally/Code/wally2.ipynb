{
 "cells": [
  {
   "cell_type": "code",
   "execution_count": 7,
   "metadata": {},
   "outputs": [
    {
     "ename": "OSError",
     "evalue": "No se pudo cargar el clasificador en cascada Haar para Wally desde C:/Projects/ITM/INTELIGENCIA ARTIFICIAL/2_Proyecto_Wally/Tools/wally.xml. Verifica la ruta del archivo XML.",
     "output_type": "error",
     "traceback": [
      "\u001b[1;31m---------------------------------------------------------------------------\u001b[0m",
      "\u001b[1;31mOSError\u001b[0m                                   Traceback (most recent call last)",
      "Cell \u001b[1;32mIn[7], line 11\u001b[0m\n\u001b[0;32m      9\u001b[0m \u001b[38;5;66;03m# Verificar si el clasificador se ha cargado correctamente\u001b[39;00m\n\u001b[0;32m     10\u001b[0m \u001b[38;5;28;01mif\u001b[39;00m wally_cascade\u001b[38;5;241m.\u001b[39mempty():\n\u001b[1;32m---> 11\u001b[0m     \u001b[38;5;28;01mraise\u001b[39;00m \u001b[38;5;167;01mIOError\u001b[39;00m(\u001b[38;5;124mf\u001b[39m\u001b[38;5;124m\"\u001b[39m\u001b[38;5;124mNo se pudo cargar el clasificador en cascada Haar para Wally desde \u001b[39m\u001b[38;5;132;01m{\u001b[39;00mxml_path\u001b[38;5;132;01m}\u001b[39;00m\u001b[38;5;124m. Verifica la ruta del archivo XML.\u001b[39m\u001b[38;5;124m\"\u001b[39m)\n\u001b[0;32m     13\u001b[0m \u001b[38;5;66;03m# Cargar la imagen principal (donde se busca a Wally)\u001b[39;00m\n\u001b[0;32m     14\u001b[0m image_path \u001b[38;5;241m=\u001b[39m \u001b[38;5;124m'\u001b[39m\u001b[38;5;124mC:/Projects/ITM/INTELIGENCIA ARTIFICIAL/2_Proyecto_Wally/View/img.jpg\u001b[39m\u001b[38;5;124m'\u001b[39m\n",
      "\u001b[1;31mOSError\u001b[0m: No se pudo cargar el clasificador en cascada Haar para Wally desde C:/Projects/ITM/INTELIGENCIA ARTIFICIAL/2_Proyecto_Wally/Tools/wally.xml. Verifica la ruta del archivo XML."
     ]
    }
   ],
   "source": [
    "import cv2\n",
    "\n",
    "image = cv2.imread(\"C:/Projects/ITM/INTELIGENCIA ARTIFICIAL/2_Proyecto_Wally/View/img.jpg\")\n",
    "waldo = cv2.imread(\"C:/Projects/ITM/INTELIGENCIA ARTIFICIAL/2_Proyecto_Wally/Img/Wally\",0) # load it as gray scale\n",
    "\n",
    "# convert the image to gray scale\n",
    "gray = cv2.cvtColor(image,cv2.COLOR_BGR2GRAY)\n",
    "\n",
    "# find one image inside another image\n",
    "result = cv2.matchTemplate(gray, waldo , cv2.TM_CCOEFF)\n",
    "min_val , max_val , min_loc , max_loc = cv2.minMaxLoc(result)\n",
    "\n",
    "# this is the left position of Waldo\n",
    "\n",
    "print (max_loc)\n",
    "\n",
    "top_left = max_loc\n",
    "bottom_right = (top_left[0] + 50 , top_left[1] + 50 )\n",
    "\n",
    "# lets show the position \n",
    "#cv2.circle (image, max_loc , 10 , (255,0,0), 2)\n",
    "cv2.rectangle(image, top_left, bottom_right, (255,0,0), 5)\n",
    "\n",
    "cv2.imshow(\"img\", image)\n",
    "#cv2.imshow(\"waldo\", waldo)\n",
    "cv2.waitKey(0)\n",
    "\n",
    "cv2.imwrite(\"Finding-Waldo\\WaldoBeach2.jpg\",image)\n",
    "\n",
    "cv2.destroyAllWindows()"
   ]
  }
 ],
 "metadata": {
  "kernelspec": {
   "display_name": "entornoIA",
   "language": "python",
   "name": "python3"
  },
  "language_info": {
   "codemirror_mode": {
    "name": "ipython",
    "version": 3
   },
   "file_extension": ".py",
   "mimetype": "text/x-python",
   "name": "python",
   "nbconvert_exporter": "python",
   "pygments_lexer": "ipython3",
   "version": "3.12.2"
  }
 },
 "nbformat": 4,
 "nbformat_minor": 2
}
