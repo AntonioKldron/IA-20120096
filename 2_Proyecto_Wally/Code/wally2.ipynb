{
 "cells": [
  {
   "cell_type": "code",
   "execution_count": 1,
   "metadata": {},
   "outputs": [
    {
     "name": "stdout",
     "output_type": "stream",
     "text": [
      "Error: no se pudo cargar el clasificador Haar desde C:/Projects/ITM/INTELIGENCIA ARTIFICIAL/2_Proyecto_Wally/Tools/wally.xml.\n"
     ]
    },
    {
     "ename": "error",
     "evalue": "OpenCV(4.9.0) D:\\a\\opencv-python\\opencv-python\\opencv\\modules\\objdetect\\src\\cascadedetect.cpp:1689: error: (-215:Assertion failed) !empty() in function 'cv::CascadeClassifier::detectMultiScale'\n",
     "output_type": "error",
     "traceback": [
      "\u001b[1;31m---------------------------------------------------------------------------\u001b[0m",
      "\u001b[1;31merror\u001b[0m                                     Traceback (most recent call last)",
      "Cell \u001b[1;32mIn[1], line 32\u001b[0m\n\u001b[0;32m     29\u001b[0m     exit()\n\u001b[0;32m     31\u001b[0m \u001b[38;5;66;03m# Realizar la detección\u001b[39;00m\n\u001b[1;32m---> 32\u001b[0m waldos \u001b[38;5;241m=\u001b[39m \u001b[43mwaldo_cascade\u001b[49m\u001b[38;5;241;43m.\u001b[39;49m\u001b[43mdetectMultiScale\u001b[49m\u001b[43m(\u001b[49m\u001b[43mgray\u001b[49m\u001b[43m,\u001b[49m\u001b[43m \u001b[49m\u001b[43mscaleFactor\u001b[49m\u001b[38;5;241;43m=\u001b[39;49m\u001b[38;5;241;43m1.1\u001b[39;49m\u001b[43m,\u001b[49m\u001b[43m \u001b[49m\u001b[43mminNeighbors\u001b[49m\u001b[38;5;241;43m=\u001b[39;49m\u001b[38;5;241;43m5\u001b[39;49m\u001b[43m,\u001b[49m\u001b[43m \u001b[49m\u001b[43mminSize\u001b[49m\u001b[38;5;241;43m=\u001b[39;49m\u001b[43m(\u001b[49m\u001b[38;5;241;43m30\u001b[39;49m\u001b[43m,\u001b[49m\u001b[43m \u001b[49m\u001b[38;5;241;43m30\u001b[39;49m\u001b[43m)\u001b[49m\u001b[43m)\u001b[49m\n\u001b[0;32m     34\u001b[0m \u001b[38;5;66;03m# Dibujar rectángulos alrededor de las detecciones\u001b[39;00m\n\u001b[0;32m     35\u001b[0m \u001b[38;5;28;01mfor\u001b[39;00m (x, y, w, h) \u001b[38;5;129;01min\u001b[39;00m waldos:\n",
      "\u001b[1;31merror\u001b[0m: OpenCV(4.9.0) D:\\a\\opencv-python\\opencv-python\\opencv\\modules\\objdetect\\src\\cascadedetect.cpp:1689: error: (-215:Assertion failed) !empty() in function 'cv::CascadeClassifier::detectMultiScale'\n"
     ]
    },
    {
     "ename": "",
     "evalue": "",
     "output_type": "error",
     "traceback": [
      "\u001b[1;31mThe Kernel crashed while executing code in the current cell or a previous cell. \n",
      "\u001b[1;31mPlease review the code in the cell(s) to identify a possible cause of the failure. \n",
      "\u001b[1;31mClick <a href='https://aka.ms/vscodeJupyterKernelCrash'>here</a> for more info. \n",
      "\u001b[1;31mView Jupyter <a href='command:jupyter.viewOutput'>log</a> for further details."
     ]
    }
   ],
   "source": [
    "import cv2\n",
    "import os\n",
    "\n",
    "# Rutas de las imágenes y el clasificador Haar\n",
    "image_path = \"C:/Projects/ITM/INTELIGENCIA ARTIFICIAL/2_Proyecto_Wally/View/img.jpg\"\n",
    "waldo_cascade_path = \"C:/Projects/ITM/INTELIGENCIA ARTIFICIAL/2_Proyecto_Wally/Tools/wally.xml\"\n",
    "\n",
    "# Verificar si las rutas son correctas\n",
    "if not os.path.exists(image_path):\n",
    "    print(f\"Error: la imagen {image_path} no existe.\")\n",
    "    exit()\n",
    "\n",
    "if not os.path.exists(waldo_cascade_path):\n",
    "    print(f\"Error: el archivo de clasificador Haar {waldo_cascade_path} no existe.\")\n",
    "    exit()\n",
    "\n",
    "# Cargar la imagen\n",
    "image = cv2.imread(image_path)\n",
    "if image is None:\n",
    "    print(f\"Error: no se pudo cargar la imagen {image_path}.\")\n",
    "    exit()\n",
    "\n",
    "gray = cv2.cvtColor(image, cv2.COLOR_BGR2GRAY)\n",
    "\n",
    "# Cargar el clasificador Haar\n",
    "waldo_cascade = cv2.CascadeClassifier(waldo_cascade_path)\n",
    "if waldo_cascade.empty():\n",
    "    print(f\"Error: no se pudo cargar el clasificador Haar desde {waldo_cascade_path}.\")\n",
    "    exit()\n",
    "\n",
    "# Realizar la detección\n",
    "waldos = waldo_cascade.detectMultiScale(gray, scaleFactor=1.1, minNeighbors=5, minSize=(30, 30))\n",
    "\n",
    "# Dibujar rectángulos alrededor de las detecciones\n",
    "for (x, y, w, h) in waldos:\n",
    "    cv2.rectangle(image, (x, y), (x + w, y + h), (255, 0, 0), 2)\n",
    "\n",
    "# Mostrar la imagen con las detecciones\n",
    "cv2.imshow(\"Detected Waldo\", image)\n",
    "cv2.waitKey(0)\n",
    "\n",
    "# Guardar la imagen con las detecciones\n",
    "output_path = \"C:/Projects/ITM/INTELIGENCIA ARTIFICIAL/2_Proyecto_Wally/Finding-Waldo/WaldoBeach2.jpg\"\n",
    "cv2.imwrite(output_path, image)\n",
    "\n",
    "cv2.destroyAllWindows()\n"
   ]
  }
 ],
 "metadata": {
  "kernelspec": {
   "display_name": "entornoIA",
   "language": "python",
   "name": "python3"
  },
  "language_info": {
   "codemirror_mode": {
    "name": "ipython",
    "version": 3
   },
   "file_extension": ".py",
   "mimetype": "text/x-python",
   "name": "python",
   "nbconvert_exporter": "python",
   "pygments_lexer": "ipython3",
   "version": "3.12.2"
  }
 },
 "nbformat": 4,
 "nbformat_minor": 2
}
