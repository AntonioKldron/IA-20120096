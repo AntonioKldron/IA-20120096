{
 "cells": [
  {
   "cell_type": "code",
   "execution_count": 5,
   "metadata": {},
   "outputs": [
    {
     "name": "stderr",
     "output_type": "stream",
     "text": [
      "<>:28: SyntaxWarning: invalid escape sequence '\\W'\n",
      "<>:28: SyntaxWarning: invalid escape sequence '\\W'\n",
      "C:\\Users\\Antonio\\AppData\\Local\\Temp\\ipykernel_16248\\2410533533.py:28: SyntaxWarning: invalid escape sequence '\\W'\n",
      "  cv2.imwrite(\"Finding-Waldo\\WaldoBeach2.jpg\",image)\n"
     ]
    },
    {
     "name": "stdout",
     "output_type": "stream",
     "text": [
      "(353, 296)\n"
     ]
    }
   ],
   "source": [
    "import cv2\n",
    "\n",
    "image = cv2.imread(\"C:/Projects/ITM/INTELIGENCIA ARTIFICIAL/2_Proyecto_Wally/View/img3.jpg\")\n",
    "waldo = cv2.imread(\"C:/Projects/ITM/INTELIGENCIA ARTIFICIAL/2_Proyecto_Wally/Img/Wally/Wally13.png\",0) # load it as gray scale\n",
    "\n",
    "# convert the image to gray scale\n",
    "gray = cv2.cvtColor(image,cv2.COLOR_BGR2GRAY)\n",
    "\n",
    "# find one image inside another image\n",
    "result = cv2.matchTemplate(gray, waldo , cv2.TM_CCOEFF)\n",
    "min_val , max_val , min_loc , max_loc = cv2.minMaxLoc(result)\n",
    "\n",
    "# this is the left position of Waldo\n",
    "\n",
    "print (max_loc)\n",
    "\n",
    "top_left = max_loc\n",
    "bottom_right = (top_left[0] + 50 , top_left[1] + 50 )\n",
    "\n",
    "# lets show the position \n",
    "#cv2.circle (image, max_loc , 10 , (255,0,0), 2)\n",
    "cv2.rectangle(image, top_left, bottom_right, (255,255,0), 5)\n",
    "\n",
    "cv2.imshow(\"img\", image)\n",
    "#cv2.imshow(\"waldo\", waldo)\n",
    "cv2.waitKey(0)\n",
    "\n",
    "cv2.imwrite(\"Finding-Waldo\\WaldoBeach2.jpg\",image)\n",
    "\n",
    "cv2.destroyAllWindows()"
   ]
  }
 ],
 "metadata": {
  "kernelspec": {
   "display_name": "entornoIA",
   "language": "python",
   "name": "python3"
  },
  "language_info": {
   "codemirror_mode": {
    "name": "ipython",
    "version": 3
   },
   "file_extension": ".py",
   "mimetype": "text/x-python",
   "name": "python",
   "nbconvert_exporter": "python",
   "pygments_lexer": "ipython3",
   "version": "3.12.2"
  }
 },
 "nbformat": 4,
 "nbformat_minor": 2
}
