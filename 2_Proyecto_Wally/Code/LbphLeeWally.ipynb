{
 "cells": [
  {
   "cell_type": "code",
   "execution_count": 4,
   "metadata": {},
   "outputs": [
    {
     "name": "stdout",
     "output_type": "stream",
     "text": [
      "['Wally']\n"
     ]
    }
   ],
   "source": [
    "import cv2 as cv\n",
    "import os\n",
    "\n",
    "# Cargar el reconocedor de rostros LBPH y leer el modelo entrenado\n",
    "faceRecognizer = cv.face.LBPHFaceRecognizer_create()\n",
    "faceRecognizer.read('C:/Projects/ITM/INTELIGENCIA ARTIFICIAL/2_Proyecto_Wally/Tools/wally.xml')\n",
    "\n",
    "# Definir la ruta del dataset\n",
    "dataSet = 'C:/Projects/ITM/INTELIGENCIA ARTIFICIAL/2_Proyecto_Wally/Img'\n",
    "\n",
    "# Obtener la lista de directorios de rostros (estos serán las etiquetas)\n",
    "faces = os.listdir(dataSet)\n",
    "print(faces)\n",
    "\n",
    "# Cargar la imagen\n",
    "image_path = 'C:/Projects/ITM/INTELIGENCIA ARTIFICIAL/2_Proyecto_Wally/View/img.jpg'\n",
    "frame = cv.imread(image_path)\n",
    "\n",
    "# Convertir la imagen a escala de grises\n",
    "gray = cv.cvtColor(frame, cv.COLOR_BGR2GRAY)\n",
    "cpGray = gray.copy()\n",
    "\n",
    "# Cargar el Haar cascade para la detección de rostros\n",
    "rostro = cv.CascadeClassifier('C:/Projects/ITM/INTELIGENCIA ARTIFICIAL/Unidad 1/tools/haarcascade_frontalface_alt.xml')\n",
    "\n",
    "# Detectar rostros en la imagen en escala de grises\n",
    "rostros = rostro.detectMultiScale(gray, 1.3, 3)\n",
    "\n",
    "for (x, y, w, h) in rostros:\n",
    "    # Extraer la región de interés (ROI) del rostro\n",
    "    frame2 = cpGray[y:y+h, x:x+w]\n",
    "    \n",
    "    # Redimensionar la ROI del rostro a 100x100 píxeles\n",
    "    frame2 = cv.resize(frame2, (100, 100), interpolation=cv.INTER_CUBIC)\n",
    "    \n",
    "    # Predecir la etiqueta del rostro\n",
    "    result = faceRecognizer.predict(frame2)\n",
    "    \n",
    "    # Dibujar un rectángulo verde si la predicción es confiable\n",
    "    if result[1] < 100:  # Umbral de confianza de LBPH\n",
    "        cv.rectangle(frame, (x, y), (x+w, y+h), (0, 255, 0), 2)  # Rectángulo verde\n",
    "\n",
    "# Mostrar la imagen con anotaciones\n",
    "cv.imshow('image', frame)\n",
    "cv.waitKey(0)  # Espera una tecla para cerrar la ventana\n",
    "\n",
    "# Destruir todas las ventanas de OpenCV\n",
    "cv.destroyAllWindows()\n"
   ]
  }
 ],
 "metadata": {
  "kernelspec": {
   "display_name": "entornoIA",
   "language": "python",
   "name": "python3"
  },
  "language_info": {
   "codemirror_mode": {
    "name": "ipython",
    "version": 3
   },
   "file_extension": ".py",
   "mimetype": "text/x-python",
   "name": "python",
   "nbconvert_exporter": "python",
   "pygments_lexer": "ipython3",
   "version": "3.12.2"
  }
 },
 "nbformat": 4,
 "nbformat_minor": 2
}
