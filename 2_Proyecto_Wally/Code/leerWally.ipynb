{
 "cells": [
  {
   "cell_type": "code",
   "execution_count": 49,
   "metadata": {},
   "outputs": [],
   "source": [
    "\n",
    "# import numpy as np\n",
    "import cv2 as cv\n",
    "\n",
    "# Cargar el clasificador entrenado\n",
    "rostro = cv.CascadeClassifier('C:/Projects/ITM/INTELIGENCIA ARTIFICIAL/2_Proyecto_Wally/Img/Wally2/classifier/cascade.xml')\n",
    "\n",
    "# Cargar la imagen de Wally\n",
    "img = cv.imread('C:/Projects/ITM/INTELIGENCIA ARTIFICIAL/2_Proyecto_Wally/View/img6.jpg')\n",
    "\n",
    "# Convertir la imagen a escala de grises\n",
    "gray = cv.cvtColor(img, cv.COLOR_BGR2GRAY)\n",
    "\n",
    "# Detectar rostros en la imagen\n",
    "##rostros = rostro.detectMultiScale(gray, 1.1, 40, minSize=(20,20), maxSize=(70,70))\n",
    "rostros = rostro.detectMultiScale(\n",
    "    gray,\n",
    "    scaleFactor=1.1,           # Escala la imagen en un 10% en cada paso de la pirámide de escala\n",
    "    minNeighbors=10,           # Mayor número de vecinos, para eliminar detecciones falsas\n",
    "    flags=cv.CASCADE_SCALE_IMAGE, # Parámetro de flags que indica que se considera el tamaño de la imagen\n",
    "    minSize=(20, 20),          # Tamaño mínimo de los rectángulos de detección\n",
    "    maxSize=(50, 50),          # Tamaño máximo de los rectángulos de detección\n",
    ")\n",
    "\n",
    "\n",
    "# Procesar cada rostro detectado\n",
    "for (x, y, w, h) in rostros:\n",
    "    # Dibujar un rectángulo verde alrededor del rostro detectado\n",
    "    img = cv.rectangle(img, (x, y), (x + w, y + h), (0, 255, 0), 2)\n",
    "\n",
    "# Mostrar la imagen con los rostros detectados y los rectángulos\n",
    "cv.imshow('rostros', img)\n",
    "cv.waitKey(0)\n",
    "cv.destroyAllWindows()"
   ]
  }
 ],
 "metadata": {
  "kernelspec": {
   "display_name": "entornoIA",
   "language": "python",
   "name": "python3"
  },
  "language_info": {
   "codemirror_mode": {
    "name": "ipython",
    "version": 3
   },
   "file_extension": ".py",
   "mimetype": "text/x-python",
   "name": "python",
   "nbconvert_exporter": "python",
   "pygments_lexer": "ipython3",
   "version": "3.12.2"
  }
 },
 "nbformat": 4,
 "nbformat_minor": 2
}
