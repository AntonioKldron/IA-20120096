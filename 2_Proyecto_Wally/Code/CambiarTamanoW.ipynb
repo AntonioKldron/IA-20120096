{
 "cells": [
  {
   "cell_type": "code",
   "execution_count": 1,
   "metadata": {},
   "outputs": [
    {
     "ename": "error",
     "evalue": "OpenCV(4.9.0) D:\\a\\opencv-python\\opencv-python\\opencv\\modules\\imgproc\\src\\resize.cpp:4152: error: (-215:Assertion failed) !ssize.empty() in function 'cv::resize'\n",
     "output_type": "error",
     "traceback": [
      "\u001b[1;31m---------------------------------------------------------------------------\u001b[0m",
      "\u001b[1;31merror\u001b[0m                                     Traceback (most recent call last)",
      "Cell \u001b[1;32mIn[1], line 23\u001b[0m\n\u001b[0;32m     20\u001b[0m imagen \u001b[38;5;241m=\u001b[39m cv2\u001b[38;5;241m.\u001b[39mimread(ruta_imagen)\n\u001b[0;32m     22\u001b[0m \u001b[38;5;66;03m# Redimensionar la imagen al nuevo tamaño\u001b[39;00m\n\u001b[1;32m---> 23\u001b[0m imagen_redimensionada \u001b[38;5;241m=\u001b[39m \u001b[43mcv2\u001b[49m\u001b[38;5;241;43m.\u001b[39;49m\u001b[43mresize\u001b[49m\u001b[43m(\u001b[49m\u001b[43mimagen\u001b[49m\u001b[43m,\u001b[49m\u001b[43m \u001b[49m\u001b[43m(\u001b[49m\u001b[43mnuevo_ancho\u001b[49m\u001b[43m,\u001b[49m\u001b[43m \u001b[49m\u001b[43mnuevo_alto\u001b[49m\u001b[43m)\u001b[49m\u001b[43m)\u001b[49m\n\u001b[0;32m     25\u001b[0m \u001b[38;5;66;03m# Guardar la imagen redimensionada en la misma ubicación\u001b[39;00m\n\u001b[0;32m     26\u001b[0m cv2\u001b[38;5;241m.\u001b[39mimwrite(ruta_imagen, imagen_redimensionada)\n",
      "\u001b[1;31merror\u001b[0m: OpenCV(4.9.0) D:\\a\\opencv-python\\opencv-python\\opencv\\modules\\imgproc\\src\\resize.cpp:4152: error: (-215:Assertion failed) !ssize.empty() in function 'cv::resize'\n"
     ]
    }
   ],
   "source": [
    "import cv2\n",
    "import os\n",
    "\n",
    "# Ruta de la carpeta que contiene las imágenes\n",
    "carpeta_imagenes = 'C:/Projects/ITM/INTELIGENCIA ARTIFICIAL/2_Proyecto_Wally/Img'\n",
    "\n",
    "# Tamaño al que se redimensionarán las imágenes\n",
    "nuevo_ancho = 100\n",
    "nuevo_alto = 100\n",
    "\n",
    "# Obtener la lista de nombres de archivo de las imágenes en la carpeta\n",
    "archivos_imagenes = os.listdir(carpeta_imagenes)\n",
    "\n",
    "# Iterar sobre cada imagen y redimensionarla\n",
    "for nombre_archivo in archivos_imagenes:\n",
    "    # Construir la ruta completa de la imagen\n",
    "    ruta_imagen = os.path.join(carpeta_imagenes, nombre_archivo)\n",
    "    \n",
    "    # Leer la imagen\n",
    "    imagen = cv2.imread(ruta_imagen)\n",
    "    \n",
    "    # Redimensionar la imagen al nuevo tamaño\n",
    "    imagen_redimensionada = cv2.resize(imagen, (nuevo_ancho, nuevo_alto))\n",
    "    \n",
    "    # Guardar la imagen redimensionada en la misma ubicación\n",
    "    cv2.imwrite(ruta_imagen, imagen_redimensionada)\n",
    "\n",
    "print(\"Todas las imágenes han sido redimensionadas al tamaño especificado.\")"
   ]
  }
 ],
 "metadata": {
  "kernelspec": {
   "display_name": "entornoIA",
   "language": "python",
   "name": "python3"
  },
  "language_info": {
   "codemirror_mode": {
    "name": "ipython",
    "version": 3
   },
   "file_extension": ".py",
   "mimetype": "text/x-python",
   "name": "python",
   "nbconvert_exporter": "python",
   "pygments_lexer": "ipython3",
   "version": "3.12.2"
  }
 },
 "nbformat": 4,
 "nbformat_minor": 2
}
